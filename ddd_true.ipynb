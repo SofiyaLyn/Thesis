{
 "cells": [
  {
   "cell_type": "code",
   "execution_count": 1,
   "metadata": {},
   "outputs": [],
   "source": [
    "import pandas as pd\n",
    "import matplotlib.pyplot as plt"
   ]
  },
  {
   "cell_type": "code",
   "execution_count": null,
   "metadata": {},
   "outputs": [],
   "source": [
    "data['treated'] = data['Country']=='USA'\n",
    "data['treated'] = data['treated'].astype(int)\n",
    "\n",
    "data['intervention'] = data['Year'] >= 2017\n",
    "data['intervention'] = data['intervention'].astype(int)\n",
    "\n",
    "data['treated_intervention'] = data['treated']*data['intervention']"
   ]
  },
  {
   "cell_type": "code",
   "execution_count": null,
   "metadata": {},
   "outputs": [],
   "source": [
    "X = data['set of variables for your x']\n",
    "X = sm.add_constant(X)\n",
    "\n",
    "y = data['set of variables for your y']\n"
   ]
  },
  {
   "cell_type": "code",
   "execution_count": null,
   "metadata": {},
   "outputs": [],
   "source": [
    "plt.scatter(data['set of variables for your x'], data['set of variables for your y'], \n",
    "c=data['treated_intervention'])\n",
    "plt.xlabel('set of variables for your x')\n",
    "plt.ylabel('set of variables for your y')\n",
    "plt.title('Title of your plot')\n",
    "plt.show()"
   ]
  },
  {
   "cell_type": "markdown",
   "metadata": {},
   "source": [
    "## Regression"
   ]
  },
  {
   "cell_type": "code",
   "execution_count": null,
   "metadata": {},
   "outputs": [],
   "source": [
    "model_formulas = [\n",
    "    \"Gini_Index ~ TradeUnions_Density + CollectiveBargain_Coverage + bargain1 + Inflation + WageGrowth\",\n",
    "    \"Gini_Index ~ TradeUnions_Density + CollectiveBargain_Coverage + bargain1 + Inflation + WageGrowth + lnminwage\",\n",
    "    \"Gini_Index ~ TradeUnions_Density + CollectiveBargain_Coverage + bargain1 + Inflation + WageGrowth + lnminwage + lnGDP + Gov_debt\",\n",
    "    \"Gini_Index ~ TradeUnions_Density + CollectiveBargain_Coverage + bargain1 + Inflation + WageGrowth + lnminwage + lnGDP + Gov_debt + ln_labor + Female_Workers + Parttime_employment + WomenUnemployment_rate\",\n",
    "    \"Gini_Index ~ TradeUnions_Density + CollectiveBargain_Coverage + bargain1 + Inflation + WageGrowth + lnminwage + lnGDP + Gov_debt + ln_labor + Female_Workers + Parttime_employment + WomenUnemployment_rate + Exports_growth + Imports_growth\",\n",
    "    \"Gini_Index ~ TradeUnions_Density + CollectiveBargain_Coverage + bargain1 + Inflation + WageGrowth + lnminwage + lnGDP + Gov_debt + ln_labor + Female_Workers + Parttime_employment + WomenUnemployment_rate + Exports_growth + Imports_growth + FDI_inflow + FDI_outflow + Tax_contribution\"\n",
    "]"
   ]
  },
  {
   "cell_type": "code",
   "execution_count": null,
   "metadata": {},
   "outputs": [],
   "source": [
    "df['Year'] = df['Year'].astype(int)\n",
    "df['Country'] = df['Country'].astype('category')\n",
    "pdata = PanelData(df.set_index(['Country', 'Year']))"
   ]
  },
  {
   "cell_type": "code",
   "execution_count": null,
   "metadata": {},
   "outputs": [],
   "source": [
    "from patsy import dmatrices\n",
    "from statsmodels.regression.linear_model import OLS\n",
    "\n",
    "def create_models(data, type, formulas):\n",
    "    models = []\n",
    "    for formula in formulas:\n",
    "        if type == \"OLS\":\n",
    "            y, X = dmatrices(formula, data=data, return_type='dataframe')\n",
    "            model = OLS(y, X).fit().get_robustcov_results()\n",
    "            models.append(model)\n",
    "        elif type == \"FE\":\n",
    "            model = PanelOLS.from_formula(formula, data=data, drop_absorbed=True).fit(cov_type='robust')\n",
    "            models.append(model)\n",
    "        elif type == \"FD\":\n",
    "            model = FirstDifferenceOLS.from_formula(formula, data=data).fit(cov_type='robust')\n",
    "            models.append(model)\n",
    "        else:\n",
    "            raise ValueError(\"Unknown model type\")\n",
    "    return models\n"
   ]
  },
  {
   "cell_type": "code",
   "execution_count": null,
   "metadata": {},
   "outputs": [],
   "source": [
    "# Create OLS, FE, and FD models\n",
    "ols_models = create_models(df, \"OLS\", model_formulas)\n",
    "fe_models = create_models(pdata, \"FE\", model_formulas)\n",
    "fd_models = create_models(pdata, \"FD\", model_formulas)"
   ]
  },
  {
   "cell_type": "code",
   "execution_count": null,
   "metadata": {},
   "outputs": [],
   "source": [
    "for model in ols_models:\n",
    "    print(model.summary())\n",
    "for model in fe_models:\n",
    "    print(model)\n",
    "for model in fd_models:\n",
    "    print(model)"
   ]
  }
 ],
 "metadata": {
  "kernelspec": {
   "display_name": "base",
   "language": "python",
   "name": "python3"
  },
  "language_info": {
   "codemirror_mode": {
    "name": "ipython",
    "version": 3
   },
   "file_extension": ".py",
   "mimetype": "text/x-python",
   "name": "python",
   "nbconvert_exporter": "python",
   "pygments_lexer": "ipython3",
   "version": "3.9.18"
  }
 },
 "nbformat": 4,
 "nbformat_minor": 2
}
