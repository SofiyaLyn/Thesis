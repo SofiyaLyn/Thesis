{
 "cells": [
  {
   "cell_type": "code",
   "execution_count": 123,
   "metadata": {},
   "outputs": [],
   "source": [
    "import pandas as pd\n",
    "import matplotlib.pyplot as plt\n",
    "import statsmodels.api as sm\n",
    "from bs4 import BeautifulSoup\n",
    "import numpy as np"
   ]
  },
  {
   "cell_type": "code",
   "execution_count": 124,
   "metadata": {},
   "outputs": [
    {
     "data": {
      "text/html": [
       "<div>\n",
       "<style scoped>\n",
       "    .dataframe tbody tr th:only-of-type {\n",
       "        vertical-align: middle;\n",
       "    }\n",
       "\n",
       "    .dataframe tbody tr th {\n",
       "        vertical-align: top;\n",
       "    }\n",
       "\n",
       "    .dataframe thead th {\n",
       "        text-align: right;\n",
       "    }\n",
       "</style>\n",
       "<table border=\"1\" class=\"dataframe\">\n",
       "  <thead>\n",
       "    <tr style=\"text-align: right;\">\n",
       "      <th></th>\n",
       "      <th>Year</th>\n",
       "      <th>Country</th>\n",
       "      <th>Proceeds_Amount_+_Over_Sold_This_Market_(USD,_mln)</th>\n",
       "      <th>IPO_market_share</th>\n",
       "      <th>New_Business</th>\n",
       "      <th>IPOs_Number_of_Issues</th>\n",
       "      <th>P/E_Ratio</th>\n",
       "      <th>E/P_ratio</th>\n",
       "      <th>Stock_Market_Index</th>\n",
       "      <th>Interest_rate_up_to_1_mln</th>\n",
       "      <th>...</th>\n",
       "      <th>Unnamed: 26</th>\n",
       "      <th>Unnamed: 27</th>\n",
       "      <th>Unnamed: 28</th>\n",
       "      <th>Unnamed: 29</th>\n",
       "      <th>Unnamed: 30</th>\n",
       "      <th>Unnamed: 31</th>\n",
       "      <th>Unnamed: 32</th>\n",
       "      <th>Unnamed: 33</th>\n",
       "      <th>Unnamed: 34</th>\n",
       "      <th>Unnamed: 35</th>\n",
       "    </tr>\n",
       "  </thead>\n",
       "  <tbody>\n",
       "    <tr>\n",
       "      <th>0</th>\n",
       "      <td>2009</td>\n",
       "      <td>Hungary</td>\n",
       "      <td>0.00</td>\n",
       "      <td>0.00</td>\n",
       "      <td>42046</td>\n",
       "      <td>1</td>\n",
       "      <td>15.2913</td>\n",
       "      <td>0.07</td>\n",
       "      <td>21,227.01</td>\n",
       "      <td>NaN</td>\n",
       "      <td>...</td>\n",
       "      <td>NaN</td>\n",
       "      <td>NaN</td>\n",
       "      <td>NaN</td>\n",
       "      <td>NaN</td>\n",
       "      <td>NaN</td>\n",
       "      <td>NaN</td>\n",
       "      <td>NaN</td>\n",
       "      <td>NaN</td>\n",
       "      <td>NaN</td>\n",
       "      <td>NaN</td>\n",
       "    </tr>\n",
       "    <tr>\n",
       "      <th>1</th>\n",
       "      <td>2010</td>\n",
       "      <td>Hungary</td>\n",
       "      <td>179.37</td>\n",
       "      <td>64.03</td>\n",
       "      <td>44,269.00</td>\n",
       "      <td>4</td>\n",
       "      <td>12.1724</td>\n",
       "      <td>0.08</td>\n",
       "      <td>21,327.07</td>\n",
       "      <td>9.40</td>\n",
       "      <td>...</td>\n",
       "      <td>NaN</td>\n",
       "      <td>NaN</td>\n",
       "      <td>NaN</td>\n",
       "      <td>NaN</td>\n",
       "      <td>NaN</td>\n",
       "      <td>NaN</td>\n",
       "      <td>NaN</td>\n",
       "      <td>NaN</td>\n",
       "      <td>NaN</td>\n",
       "      <td>NaN</td>\n",
       "    </tr>\n",
       "    <tr>\n",
       "      <th>2</th>\n",
       "      <td>2011</td>\n",
       "      <td>Hungary</td>\n",
       "      <td>0.00</td>\n",
       "      <td>0.00</td>\n",
       "      <td>52,217.00</td>\n",
       "      <td>1</td>\n",
       "      <td>10.8504</td>\n",
       "      <td>0.09</td>\n",
       "      <td>16,974.24</td>\n",
       "      <td>9.30</td>\n",
       "      <td>...</td>\n",
       "      <td>NaN</td>\n",
       "      <td>NaN</td>\n",
       "      <td>NaN</td>\n",
       "      <td>NaN</td>\n",
       "      <td>NaN</td>\n",
       "      <td>NaN</td>\n",
       "      <td>NaN</td>\n",
       "      <td>NaN</td>\n",
       "      <td>NaN</td>\n",
       "      <td>NaN</td>\n",
       "    </tr>\n",
       "    <tr>\n",
       "      <th>3</th>\n",
       "      <td>2012</td>\n",
       "      <td>Hungary</td>\n",
       "      <td>2.93</td>\n",
       "      <td>1.05</td>\n",
       "      <td>32,311.00</td>\n",
       "      <td>1</td>\n",
       "      <td>12.6385</td>\n",
       "      <td>0.08</td>\n",
       "      <td>18,173.20</td>\n",
       "      <td>10.46</td>\n",
       "      <td>...</td>\n",
       "      <td>NaN</td>\n",
       "      <td>NaN</td>\n",
       "      <td>NaN</td>\n",
       "      <td>NaN</td>\n",
       "      <td>NaN</td>\n",
       "      <td>NaN</td>\n",
       "      <td>NaN</td>\n",
       "      <td>NaN</td>\n",
       "      <td>NaN</td>\n",
       "      <td>NaN</td>\n",
       "    </tr>\n",
       "    <tr>\n",
       "      <th>4</th>\n",
       "      <td>2013</td>\n",
       "      <td>Hungary</td>\n",
       "      <td>1.97</td>\n",
       "      <td>0.70</td>\n",
       "      <td>28,207.00</td>\n",
       "      <td>1</td>\n",
       "      <td>10.6615</td>\n",
       "      <td>0.09</td>\n",
       "      <td>18,564.08</td>\n",
       "      <td>8.79</td>\n",
       "      <td>...</td>\n",
       "      <td>NaN</td>\n",
       "      <td>NaN</td>\n",
       "      <td>NaN</td>\n",
       "      <td>NaN</td>\n",
       "      <td>NaN</td>\n",
       "      <td>NaN</td>\n",
       "      <td>NaN</td>\n",
       "      <td>NaN</td>\n",
       "      <td>NaN</td>\n",
       "      <td>NaN</td>\n",
       "    </tr>\n",
       "  </tbody>\n",
       "</table>\n",
       "<p>5 rows × 36 columns</p>\n",
       "</div>"
      ],
      "text/plain": [
       "   Year  Country Proceeds_Amount_+_Over_Sold_This_Market_(USD,_mln)  \\\n",
       "0  2009  Hungary                                               0.00   \n",
       "1  2010  Hungary                                             179.37   \n",
       "2  2011  Hungary                                               0.00   \n",
       "3  2012  Hungary                                               2.93   \n",
       "4  2013  Hungary                                               1.97   \n",
       "\n",
       "   IPO_market_share New_Business  IPOs_Number_of_Issues  P/E_Ratio E/P_ratio  \\\n",
       "0              0.00        42046                      1    15.2913      0.07   \n",
       "1             64.03    44,269.00                      4    12.1724      0.08   \n",
       "2              0.00    52,217.00                      1    10.8504      0.09   \n",
       "3              1.05    32,311.00                      1    12.6385      0.08   \n",
       "4              0.70    28,207.00                      1    10.6615      0.09   \n",
       "\n",
       "  Stock_Market_Index  Interest_rate_up_to_1_mln  ...  Unnamed: 26 Unnamed: 27  \\\n",
       "0          21,227.01                        NaN  ...          NaN         NaN   \n",
       "1          21,327.07                       9.40  ...          NaN         NaN   \n",
       "2          16,974.24                       9.30  ...          NaN         NaN   \n",
       "3          18,173.20                      10.46  ...          NaN         NaN   \n",
       "4          18,564.08                       8.79  ...          NaN         NaN   \n",
       "\n",
       "  Unnamed: 28 Unnamed: 29  Unnamed: 30 Unnamed: 31 Unnamed: 32 Unnamed: 33  \\\n",
       "0         NaN         NaN          NaN         NaN         NaN         NaN   \n",
       "1         NaN         NaN          NaN         NaN         NaN         NaN   \n",
       "2         NaN         NaN          NaN         NaN         NaN         NaN   \n",
       "3         NaN         NaN          NaN         NaN         NaN         NaN   \n",
       "4         NaN         NaN          NaN         NaN         NaN         NaN   \n",
       "\n",
       "  Unnamed: 34 Unnamed: 35  \n",
       "0         NaN         NaN  \n",
       "1         NaN         NaN  \n",
       "2         NaN         NaN  \n",
       "3         NaN         NaN  \n",
       "4         NaN         NaN  \n",
       "\n",
       "[5 rows x 36 columns]"
      ]
     },
     "execution_count": 124,
     "metadata": {},
     "output_type": "execute_result"
    }
   ],
   "source": [
    "url = 'https://github.com/SofiyaLyn/Thesis/raw/main/true_data.csv'\n",
    "data = pd.read_csv(url)\n",
    "data.head()"
   ]
  },
  {
   "cell_type": "code",
   "execution_count": 125,
   "metadata": {},
   "outputs": [
    {
     "name": "stdout",
     "output_type": "stream",
     "text": [
      "Index(['Year', 'Country', 'Proceeds_Amount_+_Over_Sold_This_Market_(USD,_mln)',\n",
      "       'IPO_market_share', 'New_Business', 'IPOs_Number_of_Issues',\n",
      "       'P/E_Ratio', 'E/P_ratio', 'Stock_Market_Index',\n",
      "       'Interest_rate_up_to_1_mln', 'Interest_rate_over_€1M',\n",
      "       'Aver_interest_rate_to_nonfinance', 'Real_GDP_Growth_(%)',\n",
      "       'Nominal_GDP_($B)', 'Population_(M)', 'Population_Growth_(%)',\n",
      "       'GDP_Per_Capita_($)', 'Real_Private_Consumption_Growth_(%)',\n",
      "       'Real_Government_Consumption_Growth_(%)',\n",
      "       'Real_Gross_Fixed_Investment_Growth_(%)',\n",
      "       'Real_Gross_Fixed_Investment,_LCU_(BGNB)',\n",
      "       'Industrial_Production_Growth_(%)', 'Unnamed: 22', 'Unnamed: 23',\n",
      "       'Unnamed: 24', 'Unnamed: 25', 'Unnamed: 26', 'Unnamed: 27',\n",
      "       'Unnamed: 28', 'Unnamed: 29', 'Unnamed: 30', 'Unnamed: 31',\n",
      "       'Unnamed: 32', 'Unnamed: 33', 'Unnamed: 34', 'Unnamed: 35'],\n",
      "      dtype='object')\n"
     ]
    }
   ],
   "source": [
    "print(data.columns)"
   ]
  },
  {
   "cell_type": "code",
   "execution_count": 126,
   "metadata": {},
   "outputs": [],
   "source": [
    "data.drop(['Unnamed: 22'], axis=1, inplace=True)\n",
    "data.drop(['Unnamed: 23'], axis=1, inplace=True)\n",
    "data.drop(['Unnamed: 24'], axis=1, inplace=True)\n",
    "data.drop(['Unnamed: 25'], axis=1, inplace=True)\n",
    "data.drop(['Unnamed: 26'], axis=1, inplace=True)\n",
    "data.drop(['Unnamed: 27'], axis=1, inplace=True)\n",
    "data.drop(['Unnamed: 28'], axis=1, inplace=True)\n",
    "data.drop(['Unnamed: 29'], axis=1, inplace=True)\n",
    "data.drop(['Unnamed: 30'], axis=1, inplace=True)\n",
    "data.drop(['Unnamed: 31'], axis=1, inplace=True)\n",
    "data.drop(['Unnamed: 32'], axis=1, inplace=True)\n",
    "data.drop(['Unnamed: 33'], axis=1, inplace=True)\n",
    "data.drop(['Unnamed: 34'], axis=1, inplace=True)\n",
    "data.drop(['Unnamed: 35'], axis=1, inplace=True)\n",
    "data = data[data['Year'].isin([2023, 2024]) == False]"
   ]
  },
  {
   "cell_type": "code",
   "execution_count": 127,
   "metadata": {},
   "outputs": [
    {
     "name": "stdout",
     "output_type": "stream",
     "text": [
      "<class 'pandas.core.frame.DataFrame'>\n",
      "Index: 238 entries, 0 to 269\n",
      "Data columns (total 22 columns):\n",
      " #   Column                                              Non-Null Count  Dtype  \n",
      "---  ------                                              --------------  -----  \n",
      " 0   Year                                                238 non-null    int64  \n",
      " 1   Country                                             238 non-null    object \n",
      " 2   Proceeds_Amount_+_Over_Sold_This_Market_(USD,_mln)  238 non-null    object \n",
      " 3   IPO_market_share                                    238 non-null    float64\n",
      " 4   New_Business                                        238 non-null    object \n",
      " 5   IPOs_Number_of_Issues                               238 non-null    int64  \n",
      " 6   P/E_Ratio                                           198 non-null    float64\n",
      " 7   E/P_ratio                                           238 non-null    object \n",
      " 8   Stock_Market_Index                                  148 non-null    object \n",
      " 9   Interest_rate_up_to_1_mln                           164 non-null    float64\n",
      " 10  Interest_rate_over_€1M                              153 non-null    float64\n",
      " 11  Aver_interest_rate_to_nonfinance                    230 non-null    object \n",
      " 12  Real_GDP_Growth_(%)                                 238 non-null    object \n",
      " 13  Nominal_GDP_($B)                                    238 non-null    object \n",
      " 14  Population_(M)                                      238 non-null    float64\n",
      " 15  Population_Growth_(%)                               238 non-null    object \n",
      " 16  GDP_Per_Capita_($)                                  238 non-null    object \n",
      " 17  Real_Private_Consumption_Growth_(%)                 238 non-null    object \n",
      " 18  Real_Government_Consumption_Growth_(%)              238 non-null    object \n",
      " 19  Real_Gross_Fixed_Investment_Growth_(%)              238 non-null    object \n",
      " 20  Real_Gross_Fixed_Investment,_LCU_(BGNB)             238 non-null    object \n",
      " 21  Industrial_Production_Growth_(%)                    236 non-null    object \n",
      "dtypes: float64(5), int64(2), object(15)\n",
      "memory usage: 42.8+ KB\n"
     ]
    }
   ],
   "source": [
    "data.info()"
   ]
  },
  {
   "cell_type": "markdown",
   "metadata": {},
   "source": [
    "## Converting E/P_ratio to numeric\n",
    "        ### Had important decimals"
   ]
  },
  {
   "cell_type": "code",
   "execution_count": 129,
   "metadata": {},
   "outputs": [],
   "source": [
    "data['E/P_ratio'] = pd.to_numeric(data['E/P_ratio'], errors='coerce')\n",
    "data['E/P_ratio'] = data['E/P_ratio'] * 100\n"
   ]
  },
  {
   "cell_type": "code",
   "execution_count": 130,
   "metadata": {},
   "outputs": [],
   "source": [
    "# Convert non-numeric values to NaN\n",
    "data['E/P_ratio'] = pd.to_numeric(data['E/P_ratio'], errors='coerce')\n",
    "\n",
    "# Fill NaN values with a default value (like 0)\n",
    "data['E/P_ratio'] = data['E/P_ratio'].fillna(0)\n",
    "\n",
    "# Now convert the column to integer\n",
    "data['E/P_ratio'] = data['E/P_ratio'].astype(int)"
   ]
  },
  {
   "cell_type": "markdown",
   "metadata": {},
   "source": [
    "### Converting negatives in () to values with minus sign"
   ]
  },
  {
   "cell_type": "code",
   "execution_count": 131,
   "metadata": {},
   "outputs": [],
   "source": [
    "def convert_negatives(val):\n",
    "    if isinstance(val, str):\n",
    "        if val.startswith('(') and val.endswith(')'):\n",
    "            return -float(val[1:-1])\n",
    "    return val\n",
    "\n",
    "# assuming `data` is DataFrame and `columns` is a list of column names\n",
    "columns = ['Real_GDP_Growth_(%)', 'Real_Private_Consumption_Growth_(%)', 'Real_Government_Consumption_Growth_(%)', \n",
    "            'Real_Gross_Fixed_Investment_Growth_(%)', 'Real_Gross_Fixed_Investment,_LCU_(BGNB)', 'Industrial_Production_Growth_(%)']\n",
    "data[columns] = data[columns].applymap(convert_negatives)"
   ]
  },
  {
   "cell_type": "markdown",
   "metadata": {},
   "source": [
    "## Converting float data into int"
   ]
  },
  {
   "cell_type": "code",
   "execution_count": 132,
   "metadata": {},
   "outputs": [
    {
     "name": "stdout",
     "output_type": "stream",
     "text": [
      "   Year  Proceeds_Amount_+_Over_Sold_This_Market_(USD,_mln)  IPO_market_share  \\\n",
      "0  2009                                                  0                  0   \n",
      "1  2010                                                179                 64   \n",
      "2  2011                                                  0                  0   \n",
      "3  2012                                                  2                  1   \n",
      "4  2013                                                  1                  0   \n",
      "\n",
      "   IPOs_Number_of_Issues  New_Business  P/E_Ratio  E/P_ratio  \\\n",
      "0                      1         42046         15        700   \n",
      "1                      4         44269         12        800   \n",
      "2                      1         52217         10        900   \n",
      "3                      1         32311         12        800   \n",
      "4                      1         28207         10        900   \n",
      "\n",
      "   Stock_Market_Index  Interest_rate_up_to_1_mln  Interest_rate_over_€1M  ...  \\\n",
      "0               21227                          0                       0  ...   \n",
      "1               21327                          9                       7  ...   \n",
      "2               16974                          9                       7  ...   \n",
      "3               18173                         10                       8  ...   \n",
      "4               18564                          8                       7  ...   \n",
      "\n",
      "   Real_GDP_Growth_(%)  Nominal_GDP_($B)  Population_(M)  \\\n",
      "0                   -3                52               7   \n",
      "1                    1                50               7   \n",
      "2                    2                57               7   \n",
      "3                    0                54               7   \n",
      "4                    0                55               7   \n",
      "\n",
      "   Population_Growth_(%)  GDP_Per_Capita_($)  \\\n",
      "0                      0                6961   \n",
      "1                      0                6825   \n",
      "2                      0                7817   \n",
      "3                      0                7403   \n",
      "4                      0                7655   \n",
      "\n",
      "   Real_Private_Consumption_Growth_(%)  \\\n",
      "0                                   -4   \n",
      "1                                    1   \n",
      "2                                    2   \n",
      "3                                    2   \n",
      "4                                   -3   \n",
      "\n",
      "   Real_Government_Consumption_Growth_(%)  \\\n",
      "0                                       0   \n",
      "1                                       6   \n",
      "2                                       0   \n",
      "3                                       0   \n",
      "4                                       2   \n",
      "\n",
      "   Real_Gross_Fixed_Investment_Growth_(%)  \\\n",
      "0                                     -15   \n",
      "1                                     -19   \n",
      "2                                      -3   \n",
      "3                                       2   \n",
      "4                                       0   \n",
      "\n",
      "   Real_Gross_Fixed_Investment,_LCU_(BGNB)  Industrial_Production_Growth_(%)  \n",
      "0                                       22                               -20  \n",
      "1                                       18                                14  \n",
      "2                                       17                                17  \n",
      "3                                       17                                 2  \n",
      "4                                       17                                 0  \n",
      "\n",
      "[5 rows x 21 columns]\n"
     ]
    }
   ],
   "source": [
    "# Columns to convert, identified based on likely content issues\n",
    "cols_to_convert = ['Year',\n",
    "    'Proceeds_Amount_+_Over_Sold_This_Market_(USD,_mln)',\n",
    "    'IPO_market_share', 'IPOs_Number_of_Issues', 'New_Business', 'P/E_Ratio', 'E/P_ratio',\n",
    "    'Stock_Market_Index', 'Interest_rate_up_to_1_mln',\n",
    "    'Interest_rate_over_€1M', 'Aver_interest_rate_to_nonfinance',\n",
    "    'Real_GDP_Growth_(%)', 'Nominal_GDP_($B)', 'Population_(M)',\n",
    "    'Population_Growth_(%)', 'GDP_Per_Capita_($)',\n",
    "    'Real_Private_Consumption_Growth_(%)',\n",
    "    'Real_Government_Consumption_Growth_(%)',\n",
    "    'Real_Gross_Fixed_Investment_Growth_(%)',\n",
    "    'Real_Gross_Fixed_Investment,_LCU_(BGNB)',\n",
    "    'Industrial_Production_Growth_(%)'\n",
    "]\n",
    "\n",
    "import re\n",
    "pattern = re.compile(r'[^\\d.]+')  # Regex to remove any non-digit/non-decimal characters\n",
    "\n",
    "for col in cols_to_convert:\n",
    "    # Remove non-numeric characters (keep decimals for conversion)\n",
    "    data[col] = data[col].replace(pattern, '', regex=True)\n",
    "\n",
    "    # Convert to numeric, coerce errors to NaN\n",
    "    data[col] = pd.to_numeric(data[col], errors='coerce')\n",
    "\n",
    "    # Optionally, handle NaN values based on your dataset's needs\n",
    "    data[col] = data[col].fillna(0)\n",
    "\n",
    "    # Convert to integer if necessary (consider keeping as float if data includes decimals)\n",
    "    data[col] = data[col].astype(int)\n",
    "\n",
    "# Check the data to ensure conversion worked as expected\n",
    "print(data[cols_to_convert].head())"
   ]
  },
  {
   "cell_type": "code",
   "execution_count": 133,
   "metadata": {},
   "outputs": [],
   "source": [
    "data.to_csv('/Users/sonetalyn/Desktop/Thesis/cleaned_data.csv', index=False)"
   ]
  },
  {
   "cell_type": "markdown",
   "metadata": {},
   "source": [
    "### Eigen values and VIF on interest rate, expecially in EU countries"
   ]
  },
  {
   "cell_type": "code",
   "execution_count": 134,
   "metadata": {},
   "outputs": [
    {
     "name": "stdout",
     "output_type": "stream",
     "text": [
      "[23.44628376  1.22470869]\n"
     ]
    }
   ],
   "source": [
    "# EIGENVALUES\n",
    "cov_matrix = data[['Interest_rate_up_to_1_mln', 'Interest_rate_over_€1M' ]].cov()\n",
    "\n",
    "eigenvalues = np.linalg.eigvals(cov_matrix.values)\n",
    "\n",
    "print(eigenvalues)\n",
    "\n",
    "#The test showed values of [22.79556464  1.14250514], there is no multicolinearity in the data set of interest rates is not identified,\n",
    "# therefore was simplification I took the average of interest rates from 2009 until 2022"
   ]
  },
  {
   "cell_type": "code",
   "execution_count": 136,
   "metadata": {},
   "outputs": [
    {
     "name": "stdout",
     "output_type": "stream",
     "text": [
      "                                              feature        VIF\n",
      "0   Proceeds_Amount_+_Over_Sold_This_Market_(USD,_...   7.102222\n",
      "1                                    IPO_market_share   1.550345\n",
      "2                               IPOs_Number_of_Issues   7.146481\n",
      "3                                        New_Business   2.723025\n",
      "4                                           P/E_Ratio   1.268934\n",
      "5                                           E/P_ratio   1.336535\n",
      "6                                  Stock_Market_Index   1.852140\n",
      "7                           Interest_rate_up_to_1_mln  11.196157\n",
      "8                              Interest_rate_over_€1M  10.048368\n",
      "9                    Aver_interest_rate_to_nonfinance   6.977038\n",
      "10                                Real_GDP_Growth_(%)   8.554044\n",
      "11                                   Nominal_GDP_($B)  21.640335\n",
      "12                                     Population_(M)  25.318809\n",
      "13                              Population_Growth_(%)   1.695019\n",
      "14                                 GDP_Per_Capita_($)   2.928872\n",
      "15                Real_Private_Consumption_Growth_(%)   4.030897\n",
      "16             Real_Government_Consumption_Growth_(%)   1.525026\n",
      "17             Real_Gross_Fixed_Investment_Growth_(%)   2.433568\n",
      "18            Real_Gross_Fixed_Investment,_LCU_(BGNB)   2.233552\n",
      "19                   Industrial_Production_Growth_(%)   2.421627\n"
     ]
    }
   ],
   "source": [
    "from statsmodels.stats.outliers_influence import variance_inflation_factor\n",
    "import statsmodels.api as sm\n",
    "import pandas as pd\n",
    "import numpy as np\n",
    "\n",
    "# replace 'column1', 'column2', etc. with the names of your columns\n",
    "selected_columns = data[['Proceeds_Amount_+_Over_Sold_This_Market_(USD,_mln)',\n",
    "       'IPO_market_share', 'IPOs_Number_of_Issues', 'New_Business',  'P/E_Ratio', 'E/P_ratio',\n",
    "       'Stock_Market_Index', 'Interest_rate_up_to_1_mln',\n",
    "       'Interest_rate_over_€1M', 'Aver_interest_rate_to_nonfinance',\n",
    "       'Real_GDP_Growth_(%)', 'Nominal_GDP_($B)', 'Population_(M)',\n",
    "       'Population_Growth_(%)', 'GDP_Per_Capita_($)',\n",
    "       'Real_Private_Consumption_Growth_(%)',\n",
    "       'Real_Government_Consumption_Growth_(%)',\n",
    "       'Real_Gross_Fixed_Investment_Growth_(%)',\n",
    "       'Real_Gross_Fixed_Investment,_LCU_(BGNB)',\n",
    "       'Industrial_Production_Growth_(%)']]\n",
    "\n",
    "X = selected_columns.values\n",
    "\n",
    "vif_data = pd.DataFrame()\n",
    "vif_data[\"feature\"] = selected_columns.columns\n",
    "\n",
    "# calculate VIF for each feature\n",
    "vif_data[\"VIF\"] = [variance_inflation_factor(X, i) for i in range(len(selected_columns.columns))]\n",
    "\n",
    "print(vif_data)"
   ]
  },
  {
   "cell_type": "code",
   "execution_count": 41,
   "metadata": {},
   "outputs": [],
   "source": [
    "data['intervention'] = data['Year'] >= 2017\n",
    "data['intervention'] = data['intervention'].astype(int)"
   ]
  },
  {
   "cell_type": "code",
   "execution_count": 42,
   "metadata": {},
   "outputs": [],
   "source": [
    "data['treated'] = data['Country'].isin([\"Hungary\", \"Poland\", \"Slovakia\", \"Czech Republic\", \"Slovenia\", \"Bulgaria\", \"Romania\", \"Estonia\", \"Latvia\", \"Lithuania\"])\n",
    "data['treated'] = data['treated'].astype(int)\n",
    "\n",
    "data['treated_intervention'] = data['treated']*data['intervention']"
   ]
  },
  {
   "cell_type": "code",
   "execution_count": 47,
   "metadata": {},
   "outputs": [],
   "source": [
    "X = data[['treated', 'intervention', 'treated_intervention']]\n",
    "X = sm.add_constant(X)\n",
    "\n",
    "y = data['Aver_interest_rate_to_nonfinance']"
   ]
  },
  {
   "cell_type": "code",
   "execution_count": 48,
   "metadata": {},
   "outputs": [
    {
     "name": "stdout",
     "output_type": "stream",
     "text": [
      "                                   OLS Regression Results                                   \n",
      "============================================================================================\n",
      "Dep. Variable:     Aver_interest_rate_to_nonfinance   R-squared:                       0.207\n",
      "Model:                                          OLS   Adj. R-squared:                  0.198\n",
      "Method:                               Least Squares   F-statistic:                     23.35\n",
      "Date:                              Thu, 09 May 2024   Prob (F-statistic):           1.85e-13\n",
      "Time:                                      11:59:43   Log-Likelihood:                -756.71\n",
      "No. Observations:                               272   AIC:                             1521.\n",
      "Df Residuals:                                   268   BIC:                             1536.\n",
      "Df Model:                                         3                                         \n",
      "Covariance Type:                          nonrobust                                         \n",
      "========================================================================================\n",
      "                           coef    std err          t      P>|t|      [0.025      0.975]\n",
      "----------------------------------------------------------------------------------------\n",
      "const                    7.0312      0.492     14.287      0.000       6.062       8.000\n",
      "treated                 -1.8229      0.676     -2.695      0.007      -3.155      -0.491\n",
      "intervention            -1.8594      0.696     -2.671      0.008      -3.230      -0.489\n",
      "treated_intervention    -1.7795      0.957     -1.860      0.064      -3.663       0.104\n",
      "==============================================================================\n",
      "Omnibus:                       44.210   Durbin-Watson:                   0.608\n",
      "Prob(Omnibus):                  0.000   Jarque-Bera (JB):               66.216\n",
      "Skew:                           0.978   Prob(JB):                     4.18e-15\n",
      "Kurtosis:                       4.420   Cond. No.                         7.05\n",
      "==============================================================================\n",
      "\n",
      "Notes:\n",
      "[1] Standard Errors assume that the covariance matrix of the errors is correctly specified.\n"
     ]
    },
    {
     "data": {
      "image/png": "[encoded data removed]",
      "text/plain": [
       "<Figure size 800x600 with 1 Axes>"
      ]
     },
     "metadata": {},
     "output_type": "display_data"
    }
   ],
   "source": [
    "# Fit the model\n",
    "model = sm.OLS(y, X)\n",
    "results = model.fit()\n",
    "\n",
    "# Print the summary\n",
    "print(results.summary())\n",
    "\n",
    "# Plot the coefficient of the interaction term\n",
    "coef = results.params['treated_intervention']\n",
    "plt.figure(figsize=(8, 6))\n",
    "plt.bar(['DiD Estimate'], [coef])\n",
    "plt.ylabel('Coefficient')\n",
    "plt.title('Difference in Differences Estimate')\n",
    "plt.show()"
   ]
  },
  {
   "cell_type": "code",
   "execution_count": null,
   "metadata": {},
   "outputs": [],
   "source": [
    "plt.scatter(data['P/E Ratio'], data['E/P ratio'], \n",
    "c=data['treated_intervention'])\n",
    "plt.xlabel('set of variables for your x')\n",
    "plt.ylabel('set of variables for your y')\n",
    "plt.title('Title of your plot')\n",
    "plt.show()"
   ]
  },
  {
   "cell_type": "code",
   "execution_count": 46,
   "metadata": {},
   "outputs": [],
   "source": [
    "X = data[['treated', 'intervention', 'treated_intervention']]\n",
    "X = sm.add_constant(X)\n",
    "\n",
    "y = data['Aver_interest_rate_to_nonfinance']"
   ]
  },
  {
   "cell_type": "code",
   "execution_count": null,
   "metadata": {},
   "outputs": [],
   "source": [
    "'], \n",
    "c=data['treated_intervention'])\n",
    "plt.xlabel('set of variables for your x')\n",
    "plt.ylabel('set of variables for your y')\n",
    "plt.title('Title of your plot')\n",
    "plt.show()'], \n",
    "c=data['treated_intervention'])\n",
    "plt.xlabel('set of variables for your x')\n",
    "plt.ylabel('set of variables for your y')\n",
    "plt.title('Title of your plot')\n",
    "plt.show()"
   ]
  },
  {
   "cell_type": "markdown",
   "metadata": {},
   "source": [
    "## Regression"
   ]
  },
  {
   "cell_type": "code",
   "execution_count": null,
   "metadata": {},
   "outputs": [],
   "source": [
    "model_formulas = [\n",
    "    \"Gini_Index ~ TradeUnions_Density + CollectiveBargain_Coverage + bargain1 + Inflation + WageGrowth\",\n",
    "    \"Gini_Index ~ TradeUnions_Density + CollectiveBargain_Coverage + bargain1 + Inflation + WageGrowth + lnminwage\",\n",
    "    \"Gini_Index ~ TradeUnions_Density + CollectiveBargain_Coverage + bargain1 + Inflation + WageGrowth + lnminwage + lnGDP + Gov_debt\",\n",
    "    \"Gini_Index ~ TradeUnions_Density + CollectiveBargain_Coverage + bargain1 + Inflation + WageGrowth + lnminwage + lnGDP + Gov_debt + ln_labor + Female_Workers + Parttime_employment + WomenUnemployment_rate\",\n",
    "    \"Gini_Index ~ TradeUnions_Density + CollectiveBargain_Coverage + bargain1 + Inflation + WageGrowth + lnminwage + lnGDP + Gov_debt + ln_labor + Female_Workers + Parttime_employment + WomenUnemployment_rate + Exports_growth + Imports_growth\",\n",
    "    \"Gini_Index ~ TradeUnions_Density + CollectiveBargain_Coverage + bargain1 + Inflation + WageGrowth + lnminwage + lnGDP + Gov_debt + ln_labor + Female_Workers + Parttime_employment + WomenUnemployment_rate + Exports_growth + Imports_growth + FDI_inflow + FDI_outflow + Tax_contribution\"\n",
    "]"
   ]
  },
  {
   "cell_type": "code",
   "execution_count": null,
   "metadata": {},
   "outputs": [],
   "source": [
    "df['Year'] = df['Year'].astype(int)\n",
    "df['Country'] = df['Country'].astype('category')\n",
    "pdata = PanelData(df.set_index(['Country', 'Year']))"
   ]
  },
  {
   "cell_type": "code",
   "execution_count": null,
   "metadata": {},
   "outputs": [],
   "source": [
    "from patsy import dmatrices\n",
    "from statsmodels.regression.linear_model import OLS\n",
    "\n",
    "def create_models(data, type, formulas):\n",
    "    models = []\n",
    "    for formula in formulas:\n",
    "        if type == \"OLS\":\n",
    "            y, X = dmatrices(formula, data=data, return_type='dataframe')\n",
    "            model = OLS(y, X).fit().get_robustcov_results()\n",
    "            models.append(model)\n",
    "        elif type == \"FE\":\n",
    "            model = PanelOLS.from_formula(formula, data=data, drop_absorbed=True).fit(cov_type='robust')\n",
    "            models.append(model)\n",
    "        elif type == \"FD\":\n",
    "            model = FirstDifferenceOLS.from_formula(formula, data=data).fit(cov_type='robust')\n",
    "            models.append(model)\n",
    "        else:\n",
    "            raise ValueError(\"Unknown model type\")\n",
    "    return models\n"
   ]
  },
  {
   "cell_type": "code",
   "execution_count": null,
   "metadata": {},
   "outputs": [],
   "source": [
    "# Create OLS, FE, and FD models\n",
    "ols_models = create_models(df, \"OLS\", model_formulas)\n",
    "fe_models = create_models(pdata, \"FE\", model_formulas)\n",
    "fd_models = create_models(pdata, \"FD\", model_formulas)"
   ]
  },
  {
   "cell_type": "code",
   "execution_count": null,
   "metadata": {},
   "outputs": [],
   "source": [
    "for model in ols_models:\n",
    "    print(model.summary())\n",
    "for model in fe_models:\n",
    "    print(model)\n",
    "for model in fd_models:\n",
    "    print(model)"
   ]
  }
 ],
 "metadata": {
  "kernelspec": {
   "display_name": "base",
   "language": "python",
   "name": "python3"
  },
  "language_info": {
   "codemirror_mode": {
    "name": "ipython",
    "version": 3
   },
   "file_extension": ".py",
   "mimetype": "text/x-python",
   "name": "python",
   "nbconvert_exporter": "python",
   "pygments_lexer": "ipython3",
   "version": "3.11.5"
  }
 },
 "nbformat": 4,
 "nbformat_minor": 2
}
